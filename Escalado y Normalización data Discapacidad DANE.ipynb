{
 "cells": [
  {
   "cell_type": "markdown",
   "id": "53f660da",
   "metadata": {},
   "source": [
    "# Escalado y Normalización\n",
    "Transformar las variables numéricas para que tengan propiedades útiles.\n",
    "\n",
    "En este cuaderno, se vera cómo escalar y normalizar los datos (¡y cuál es la diferencia entre los dos!).\n",
    "\n",
    "## Configura el entorno\n",
    "Lo primero que se tiene que hacer es cargar las bibliotecas que usaran."
   ]
  },
  {
   "cell_type": "code",
   "execution_count": 1,
   "id": "2ac9407e",
   "metadata": {},
   "outputs": [
    {
     "name": "stdout",
     "output_type": "stream",
     "text": [
      "Defaulting to user installation because normal site-packages is not writeable\n",
      "Requirement already satisfied: mlxtend in c:\\users\\kta_r\\appdata\\roaming\\python\\python39\\site-packages (0.21.0)\n",
      "Requirement already satisfied: matplotlib>=3.0.0 in c:\\programdata\\anaconda3\\lib\\site-packages (from mlxtend) (3.5.1)\n",
      "Requirement already satisfied: scipy>=1.2.1 in c:\\programdata\\anaconda3\\lib\\site-packages (from mlxtend) (1.7.3)\n",
      "Requirement already satisfied: pandas>=0.24.2 in c:\\programdata\\anaconda3\\lib\\site-packages (from mlxtend) (1.4.2)\n",
      "Requirement already satisfied: numpy>=1.16.2 in c:\\programdata\\anaconda3\\lib\\site-packages (from mlxtend) (1.21.5)\n",
      "Requirement already satisfied: scikit-learn>=1.0.2 in c:\\programdata\\anaconda3\\lib\\site-packages (from mlxtend) (1.0.2)\n",
      "Requirement already satisfied: joblib>=0.13.2 in c:\\programdata\\anaconda3\\lib\\site-packages (from mlxtend) (1.1.0)\n",
      "Requirement already satisfied: setuptools in c:\\programdata\\anaconda3\\lib\\site-packages (from mlxtend) (61.2.0)\n",
      "Requirement already satisfied: pyparsing>=2.2.1 in c:\\programdata\\anaconda3\\lib\\site-packages (from matplotlib>=3.0.0->mlxtend) (3.0.4)\n",
      "Requirement already satisfied: pillow>=6.2.0 in c:\\programdata\\anaconda3\\lib\\site-packages (from matplotlib>=3.0.0->mlxtend) (9.0.1)\n",
      "Requirement already satisfied: cycler>=0.10 in c:\\programdata\\anaconda3\\lib\\site-packages (from matplotlib>=3.0.0->mlxtend) (0.11.0)\n",
      "Requirement already satisfied: fonttools>=4.22.0 in c:\\programdata\\anaconda3\\lib\\site-packages (from matplotlib>=3.0.0->mlxtend) (4.25.0)\n",
      "Requirement already satisfied: kiwisolver>=1.0.1 in c:\\programdata\\anaconda3\\lib\\site-packages (from matplotlib>=3.0.0->mlxtend) (1.3.2)\n",
      "Requirement already satisfied: packaging>=20.0 in c:\\programdata\\anaconda3\\lib\\site-packages (from matplotlib>=3.0.0->mlxtend) (21.3)\n",
      "Requirement already satisfied: python-dateutil>=2.7 in c:\\programdata\\anaconda3\\lib\\site-packages (from matplotlib>=3.0.0->mlxtend) (2.8.2)\n",
      "Requirement already satisfied: pytz>=2020.1 in c:\\programdata\\anaconda3\\lib\\site-packages (from pandas>=0.24.2->mlxtend) (2021.3)\n",
      "Requirement already satisfied: six>=1.5 in c:\\programdata\\anaconda3\\lib\\site-packages (from python-dateutil>=2.7->matplotlib>=3.0.0->mlxtend) (1.16.0)\n",
      "Requirement already satisfied: threadpoolctl>=2.0.0 in c:\\programdata\\anaconda3\\lib\\site-packages (from scikit-learn>=1.0.2->mlxtend) (2.2.0)\n",
      "Note: you may need to restart the kernel to use updated packages.\n"
     ]
    }
   ],
   "source": [
    "pip install mlxtend"
   ]
  },
  {
   "cell_type": "code",
   "execution_count": 2,
   "id": "1e52f947",
   "metadata": {},
   "outputs": [
    {
     "data": {
      "text/html": [
       "<div>\n",
       "<style scoped>\n",
       "    .dataframe tbody tr th:only-of-type {\n",
       "        vertical-align: middle;\n",
       "    }\n",
       "\n",
       "    .dataframe tbody tr th {\n",
       "        vertical-align: top;\n",
       "    }\n",
       "\n",
       "    .dataframe thead th {\n",
       "        text-align: right;\n",
       "    }\n",
       "</style>\n",
       "<table border=\"1\" class=\"dataframe\">\n",
       "  <thead>\n",
       "    <tr style=\"text-align: right;\">\n",
       "      <th></th>\n",
       "      <th>Departamentos</th>\n",
       "      <th>Área</th>\n",
       "      <th>Total_Nacional</th>\n",
       "      <th>Unnamed: 3</th>\n",
       "      <th>Total PcD</th>\n",
       "      <th>PcD %</th>\n",
       "      <th>Total Hombres</th>\n",
       "      <th>% Hombres</th>\n",
       "      <th>Totales Mujeres</th>\n",
       "      <th>% Mujeres</th>\n",
       "    </tr>\n",
       "  </thead>\n",
       "  <tbody>\n",
       "    <tr>\n",
       "      <th>0</th>\n",
       "      <td>Total nacional</td>\n",
       "      <td>Total</td>\n",
       "      <td>46857.311700</td>\n",
       "      <td>NaN</td>\n",
       "      <td>2647.097320</td>\n",
       "      <td>5.649273</td>\n",
       "      <td>1202.226670</td>\n",
       "      <td>45.416791</td>\n",
       "      <td>1444.870650</td>\n",
       "      <td>54.583209</td>\n",
       "    </tr>\n",
       "    <tr>\n",
       "      <th>1</th>\n",
       "      <td>Total nacional</td>\n",
       "      <td>Cabecera</td>\n",
       "      <td>35868.917100</td>\n",
       "      <td>NaN</td>\n",
       "      <td>2075.418980</td>\n",
       "      <td>5.786121</td>\n",
       "      <td>898.202377</td>\n",
       "      <td>43.278123</td>\n",
       "      <td>1177.216600</td>\n",
       "      <td>56.721877</td>\n",
       "    </tr>\n",
       "    <tr>\n",
       "      <th>2</th>\n",
       "      <td>Total nacional</td>\n",
       "      <td>Centros poblados y rural disperso</td>\n",
       "      <td>10988.394500</td>\n",
       "      <td>NaN</td>\n",
       "      <td>571.678337</td>\n",
       "      <td>5.202565</td>\n",
       "      <td>304.024290</td>\n",
       "      <td>53.181006</td>\n",
       "      <td>267.654047</td>\n",
       "      <td>46.818994</td>\n",
       "    </tr>\n",
       "    <tr>\n",
       "      <th>3</th>\n",
       "      <td>Amazonas</td>\n",
       "      <td>Total</td>\n",
       "      <td>70.200000</td>\n",
       "      <td>NaN</td>\n",
       "      <td>1.280620</td>\n",
       "      <td>1.825065</td>\n",
       "      <td>0.603946</td>\n",
       "      <td>1.656829</td>\n",
       "      <td>0.676674</td>\n",
       "      <td>2.006950</td>\n",
       "    </tr>\n",
       "    <tr>\n",
       "      <th>4</th>\n",
       "      <td>Amazonas</td>\n",
       "      <td>Cabecera</td>\n",
       "      <td>35.700000</td>\n",
       "      <td>NaN</td>\n",
       "      <td>0.761873</td>\n",
       "      <td>2.136251</td>\n",
       "      <td>0.287703</td>\n",
       "      <td>1.586638</td>\n",
       "      <td>0.474170</td>\n",
       "      <td>2.704728</td>\n",
       "    </tr>\n",
       "    <tr>\n",
       "      <th>...</th>\n",
       "      <td>...</td>\n",
       "      <td>...</td>\n",
       "      <td>...</td>\n",
       "      <td>...</td>\n",
       "      <td>...</td>\n",
       "      <td>...</td>\n",
       "      <td>...</td>\n",
       "      <td>...</td>\n",
       "      <td>...</td>\n",
       "      <td>...</td>\n",
       "    </tr>\n",
       "    <tr>\n",
       "      <th>96</th>\n",
       "      <td>Vaupés</td>\n",
       "      <td>Cabecera</td>\n",
       "      <td>12.024834</td>\n",
       "      <td>NaN</td>\n",
       "      <td>0.313139</td>\n",
       "      <td>2.604103</td>\n",
       "      <td>0.176888</td>\n",
       "      <td>2.809226</td>\n",
       "      <td>0.136251</td>\n",
       "      <td>2.378621</td>\n",
       "    </tr>\n",
       "    <tr>\n",
       "      <th>97</th>\n",
       "      <td>Vaupés</td>\n",
       "      <td>Centros poblados y rural disperso</td>\n",
       "      <td>27.214702</td>\n",
       "      <td>NaN</td>\n",
       "      <td>0.353540</td>\n",
       "      <td>1.299076</td>\n",
       "      <td>0.232530</td>\n",
       "      <td>1.623503</td>\n",
       "      <td>0.121010</td>\n",
       "      <td>0.938645</td>\n",
       "    </tr>\n",
       "    <tr>\n",
       "      <th>98</th>\n",
       "      <td>Vichada</td>\n",
       "      <td>Total</td>\n",
       "      <td>98.716633</td>\n",
       "      <td>NaN</td>\n",
       "      <td>1.535604</td>\n",
       "      <td>1.555567</td>\n",
       "      <td>0.793193</td>\n",
       "      <td>1.518105</td>\n",
       "      <td>0.742411</td>\n",
       "      <td>1.597691</td>\n",
       "    </tr>\n",
       "    <tr>\n",
       "      <th>99</th>\n",
       "      <td>Vichada</td>\n",
       "      <td>Cabecera</td>\n",
       "      <td>25.047192</td>\n",
       "      <td>NaN</td>\n",
       "      <td>0.595877</td>\n",
       "      <td>2.379016</td>\n",
       "      <td>0.287005</td>\n",
       "      <td>2.241771</td>\n",
       "      <td>0.308872</td>\n",
       "      <td>2.522516</td>\n",
       "    </tr>\n",
       "    <tr>\n",
       "      <th>100</th>\n",
       "      <td>Vichada</td>\n",
       "      <td>Centros poblados y rural disperso</td>\n",
       "      <td>73.669441</td>\n",
       "      <td>NaN</td>\n",
       "      <td>0.939727</td>\n",
       "      <td>1.275599</td>\n",
       "      <td>0.506188</td>\n",
       "      <td>1.283234</td>\n",
       "      <td>0.433538</td>\n",
       "      <td>1.266800</td>\n",
       "    </tr>\n",
       "  </tbody>\n",
       "</table>\n",
       "<p>101 rows × 10 columns</p>\n",
       "</div>"
      ],
      "text/plain": [
       "       Departamentos                               Área  Total_Nacional  \\\n",
       "0    Total nacional                              Total     46857.311700   \n",
       "1    Total nacional                            Cabecera    35868.917100   \n",
       "2    Total nacional   Centros poblados y rural disperso    10988.394500   \n",
       "3           Amazonas                             Total        70.200000   \n",
       "4           Amazonas                           Cabecera       35.700000   \n",
       "..               ...                                ...             ...   \n",
       "96            Vaupés                           Cabecera       12.024834   \n",
       "97            Vaupés  Centros poblados y rural disperso       27.214702   \n",
       "98           Vichada                             Total        98.716633   \n",
       "99           Vichada                           Cabecera       25.047192   \n",
       "100          Vichada  Centros poblados y rural disperso       73.669441   \n",
       "\n",
       "     Unnamed: 3    Total PcD     PcD %  Total Hombres  % Hombres  \\\n",
       "0           NaN  2647.097320  5.649273    1202.226670  45.416791   \n",
       "1           NaN  2075.418980  5.786121     898.202377  43.278123   \n",
       "2           NaN   571.678337  5.202565     304.024290  53.181006   \n",
       "3           NaN     1.280620  1.825065       0.603946   1.656829   \n",
       "4           NaN     0.761873  2.136251       0.287703   1.586638   \n",
       "..          ...          ...       ...            ...        ...   \n",
       "96          NaN     0.313139  2.604103       0.176888   2.809226   \n",
       "97          NaN     0.353540  1.299076       0.232530   1.623503   \n",
       "98          NaN     1.535604  1.555567       0.793193   1.518105   \n",
       "99          NaN     0.595877  2.379016       0.287005   2.241771   \n",
       "100         NaN     0.939727  1.275599       0.506188   1.283234   \n",
       "\n",
       "     Totales Mujeres  % Mujeres  \n",
       "0        1444.870650  54.583209  \n",
       "1        1177.216600  56.721877  \n",
       "2         267.654047  46.818994  \n",
       "3           0.676674   2.006950  \n",
       "4           0.474170   2.704728  \n",
       "..               ...        ...  \n",
       "96          0.136251   2.378621  \n",
       "97          0.121010   0.938645  \n",
       "98          0.742411   1.597691  \n",
       "99          0.308872   2.522516  \n",
       "100         0.433538   1.266800  \n",
       "\n",
       "[101 rows x 10 columns]"
      ]
     },
     "execution_count": 2,
     "metadata": {},
     "output_type": "execute_result"
    }
   ],
   "source": [
    "# modules we'll use\n",
    "import pandas as pd\n",
    "import numpy as np\n",
    "\n",
    "# for Box-Cox Transformation\n",
    "from scipy import stats\n",
    "\n",
    "# for min_max scaling\n",
    "from mlxtend.preprocessing import minmax_scaling\n",
    "\n",
    "# plotting modules\n",
    "import seaborn as sns\n",
    "import matplotlib.pyplot as plt\n",
    "\n",
    "# read in all our data\n",
    "discapacidadDeptos = pd.read_excel(\"1_data_ENCV_1_manual.xlsx\")\n",
    "\n",
    "# set seed for reproducibility\n",
    "np.random.seed(0)\n",
    "\n",
    "discapacidadDeptos"
   ]
  },
  {
   "cell_type": "markdown",
   "id": "9478ec8e",
   "metadata": {},
   "source": [
    "## Escalado vs. Normalización: ¿Cuál es la diferencia?\n",
    "Una de las razones por las que es fácil confundirse entre escalado y normalización es que los términos a veces se usan indistintamente y, para hacerlo aún más confuso, ¡son muy similares! En ambos casos está transformando los valores de las variables numéricas para que los puntos de datos transformados tengan propiedades útiles específicas. La diferencia es que:\n",
    "\n",
    "- Escalar, está cambiando el rango de sus datos, mientras que en la \n",
    "- Normalización, está cambiando la forma de la distribución de sus datos. Se hablara un poco más en profundidad sobre cada una de estas opciones.\n",
    "\n",
    "## Scaling\n",
    "Esto significa que está transformando sus datos para que se ajusten a una escala específica, como 0-100 o 0-1. Desea escalar los datos cuando utiliza métodos basados en medidas de la distancia entre los puntos de datos, como las máquinas de vectores de soporte (SVM) o los k-vecinos más cercanos (KNN).  Con estos algoritmos, se le da la misma importancia a un cambio de \"1\" en cualquier característica numérica. Al escalar sus variables, puede ayudar a comparar diferentes variables en igualdad de condiciones.\n",
    "\n",
    "## Normalization\n",
    "\n",
    "Escalar solo cambia el rango de sus datos. La normalización es una transformación más radical. El objetivo de la normalización es cambiar sus observaciones para que puedan describirse como una distribución normal.\n",
    "\n",
    "* _Distribución normal_: también conocida como \"curva de campana\", se trata de una distribución estadística específica en la que aproximadamente las mismas observaciones caen por encima y por debajo de la media, la media y la mediana son iguales, y hay más observaciones más cercanas a la media. La distribución normal también se conoce como distribución gaussiana.\n",
    "\n",
    "En general, se normalizará los datos si va a utilizar una técnica estadística o de aprendizaje automático que suponga que sus datos se distribuyen normalmente. Algunos ejemplos de estos incluyen análisis discriminante lineal (LDA) y Gaussian naive Bayes Consejo profesional: cualquier método con \"Gaussian\" en el nombre probablemente asuma la normalidad).\n",
    "\n",
    "El método que se usara para normalizar aquí se llama Transformación de Box-Cox. Echemos un vistazo rápido a cómo se ve la normalización de algunos datos:"
   ]
  },
  {
   "cell_type": "code",
   "execution_count": 3,
   "id": "4ef70b2a",
   "metadata": {},
   "outputs": [
    {
     "name": "stdout",
     "output_type": "stream",
     "text": [
      "<class 'pandas.core.frame.DataFrame'>\n",
      "RangeIndex: 101 entries, 0 to 100\n",
      "Data columns (total 10 columns):\n",
      " #   Column           Non-Null Count  Dtype  \n",
      "---  ------           --------------  -----  \n",
      " 0   Departamentos    101 non-null    object \n",
      " 1   Área             101 non-null    object \n",
      " 2   Total_Nacional   101 non-null    float64\n",
      " 3   Unnamed: 3       0 non-null      float64\n",
      " 4   Total PcD        101 non-null    float64\n",
      " 5   PcD %            101 non-null    float64\n",
      " 6   Total Hombres    101 non-null    float64\n",
      " 7   % Hombres        101 non-null    float64\n",
      " 8   Totales Mujeres  101 non-null    float64\n",
      " 9   % Mujeres        101 non-null    float64\n",
      "dtypes: float64(8), object(2)\n",
      "memory usage: 8.0+ KB\n",
      "None\n"
     ]
    }
   ],
   "source": [
    "print(discapacidadDeptos.info())"
   ]
  },
  {
   "cell_type": "code",
   "execution_count": 6,
   "id": "4e43e73f",
   "metadata": {},
   "outputs": [
    {
     "name": "stdout",
     "output_type": "stream",
     "text": [
      "Original data\n",
      "Preview:\n",
      "    Total_Nacional\n",
      "0      46857.3117\n",
      "1      35868.9171\n",
      "2      10988.3945\n",
      "3         70.2000\n",
      "4         35.7000\n",
      "Minimum value: 12.0248344 \n",
      "Maximum value: 46857.3117\n",
      "______________________________\n",
      "\n",
      "Scaled data\n",
      "Preview:\n",
      "    Total_Nacional\n",
      "0        1.000000\n",
      "1        0.765432\n",
      "2        0.234311\n",
      "3        0.001242\n",
      "4        0.000505\n",
      "Minimum value: 0.0 \n",
      "Maximum value: 1.0\n"
     ]
    }
   ],
   "source": [
    "# select the Total_Nacional column\n",
    "total_nal = pd.DataFrame(discapacidadDeptos.Total_Nacional)\n",
    "\n",
    "# scale the goals from 0 to 1\n",
    "scaled_data = minmax_scaling(total_nal, columns=['Total_Nacional'])\n",
    "\n",
    "\n",
    "print('Original data\\nPreview:\\n', total_nal.head())\n",
    "print('Minimum value:', float(total_nal.min()),\n",
    "      '\\nMaximum value:', float(total_nal.max()))\n",
    "print('_'*30)\n",
    "\n",
    "print('\\nScaled data\\nPreview:\\n', scaled_data.head())\n",
    "print('Minimum value:', float(scaled_data.min()),\n",
    "      '\\nMaximum value:', float(scaled_data.max()))\n",
    "\n",
    "\n"
   ]
  },
  {
   "cell_type": "code",
   "execution_count": 10,
   "id": "d3e6160f",
   "metadata": {},
   "outputs": [
    {
     "data": {
      "image/png": "[encoded data removed]",
      "text/plain": [
       "<Figure size 432x288 with 1 Axes>"
      ]
     },
     "metadata": {
      "needs_background": "light"
     },
     "output_type": "display_data"
    }
   ],
   "source": [
    "# plot escalado data\n",
    "ax = sns.histplot(scaled_data, kde=True)\n",
    "ax.set_title(\"escalado data\")\n",
    "\n",
    "plt.show()"
   ]
  },
  {
   "cell_type": "code",
   "execution_count": 25,
   "id": "4a8c7b26",
   "metadata": {},
   "outputs": [
    {
     "data": {
      "image/png": "[encoded data removed]",
      "text/plain": [
       "<Figure size 432x288 with 1 Axes>"
      ]
     },
     "metadata": {
      "needs_background": "light"
     },
     "output_type": "display_data"
    }
   ],
   "source": [
    "# plot escalado data\n",
    "ax = sns.histplot(scaled_data, kde=True)\n",
    "ax.set_title(\"escalado data\")\n",
    "\n",
    "plt.show()"
   ]
  },
  {
   "cell_type": "code",
   "execution_count": 30,
   "id": "9a95bd27",
   "metadata": {},
   "outputs": [
    {
     "data": {
      "image/png": "[encoded data removed]",
      "text/plain": [
       "<Figure size 432x288 with 1 Axes>"
      ]
     },
     "metadata": {
      "needs_background": "light"
     },
     "output_type": "display_data"
    }
   ],
   "source": [
    "ax = sns.histplot(total_nal, kde=True)\n",
    "ax.set_title(\"original data\")\n",
    "\n",
    "plt.show()"
   ]
  },
  {
   "cell_type": "markdown",
   "id": "0ca80c5b",
   "metadata": {},
   "source": [
    "# Ahora verificar la Normalización\n",
    "Ahora se normalizara el Total Nacional de persona con discapacidad por cada departamento de Colombia"
   ]
  },
  {
   "cell_type": "code",
   "execution_count": 7,
   "id": "071283d3",
   "metadata": {},
   "outputs": [
    {
     "name": "stdout",
     "output_type": "stream",
     "text": [
      "Original data\n",
      "Preview:\n",
      " 0    46857.3117\n",
      "1    35868.9171\n",
      "2    10988.3945\n",
      "3       70.2000\n",
      "4       35.7000\n",
      "Name: Total_Nacional, dtype: float64\n",
      "Minimum value: 12.0248344 \n",
      "Maximum value: 46857.3117\n",
      "______________________________\n",
      "\n",
      "Normalized data\n",
      "Preview:\n",
      " 0    10.336555\n",
      "1    10.089589\n",
      "2     8.990385\n",
      "3     4.184933\n",
      "4     3.528104\n",
      "Name: Total_Nacional, dtype: float64\n",
      "Minimum value: 2.4641472630637824 \n",
      "Maximum value: 10.336555150204703\n"
     ]
    }
   ],
   "source": [
    "# OTRA FORMA DE VER LA NORMALIZACION 1\n",
    "# get the index of all positive pledges (Box-Cox only takes positive values)\n",
    "total_nal_disc = discapacidadDeptos.Total_Nacional > 0\n",
    "\n",
    "# get only positive pledges (using their indexes)\n",
    "positive_totales = discapacidadDeptos.Total_Nacional.loc[total_nal_disc]\n",
    "\n",
    "# normalize the pledges (w/ Box-Cox)\n",
    "normalized_totales = pd.Series(stats.boxcox(positive_totales)[0], \n",
    "                               name='Total_Nacional', index=positive_totales.index)\n",
    "\n",
    "print('Original data\\nPreview:\\n', positive_totales.head())\n",
    "print('Minimum value:', float(positive_totales.min()),\n",
    "      '\\nMaximum value:', float(positive_totales.max()))\n",
    "print('_'*30)\n",
    "\n",
    "print('\\nNormalized data\\nPreview:\\n', normalized_totales.head())\n",
    "print('Minimum value:', float(normalized_totales.min()),\n",
    "      '\\nMaximum value:', float(normalized_totales.max()))"
   ]
  },
  {
   "cell_type": "code",
   "execution_count": 32,
   "id": "5b9ede4b",
   "metadata": {},
   "outputs": [
    {
     "data": {
      "image/png": "[encoded data removed]",
      "text/plain": [
       "<Figure size 432x288 with 1 Axes>"
      ]
     },
     "metadata": {
      "needs_background": "light"
     },
     "output_type": "display_data"
    }
   ],
   "source": [
    "# plot normalized data\n",
    "ax = sns.histplot(total_nal, kde=True)\n",
    "ax.set_title(\"original data\")\n",
    "\n",
    "plt.show()"
   ]
  },
  {
   "cell_type": "code",
   "execution_count": 33,
   "id": "a2b66389",
   "metadata": {},
   "outputs": [
    {
     "data": {
      "image/png": "[encoded data removed]",
      "text/plain": [
       "<Figure size 432x288 with 1 Axes>"
      ]
     },
     "metadata": {
      "needs_background": "light"
     },
     "output_type": "display_data"
    }
   ],
   "source": [
    "ax = sns.histplot(normalized_totales, kde=True)\n",
    "ax.set_title(\"Normalized data\")\n",
    "\n",
    "plt.show()"
   ]
  },
  {
   "cell_type": "code",
   "execution_count": 34,
   "id": "5a7cae0e",
   "metadata": {},
   "outputs": [
    {
     "name": "stderr",
     "output_type": "stream",
     "text": [
      "C:\\ProgramData\\Anaconda3\\lib\\site-packages\\seaborn\\distributions.py:2619: FutureWarning: `distplot` is a deprecated function and will be removed in a future version. Please adapt your code to use either `displot` (a figure-level function with similar flexibility) or `histplot` (an axes-level function for histograms).\n",
      "  warnings.warn(msg, FutureWarning)\n",
      "C:\\ProgramData\\Anaconda3\\lib\\site-packages\\seaborn\\distributions.py:2619: FutureWarning: `distplot` is a deprecated function and will be removed in a future version. Please adapt your code to use either `displot` (a figure-level function with similar flexibility) or `histplot` (an axes-level function for histograms).\n",
      "  warnings.warn(msg, FutureWarning)\n"
     ]
    },
    {
     "data": {
      "text/plain": [
       "Text(0.5, 1.0, 'Normalized data')"
      ]
     },
     "execution_count": 34,
     "metadata": {},
     "output_type": "execute_result"
    },
    {
     "data": {
      "image/png": "[encoded data removed]",
      "text/plain": [
       "<Figure size 432x288 with 2 Axes>"
      ]
     },
     "metadata": {
      "needs_background": "light"
     },
     "output_type": "display_data"
    }
   ],
   "source": [
    "# OTRA FORMA DE VER LA NORMALIZACION 2\n",
    "# get the index of all positive pledges (Box-Cox only takes positive values)\n",
    "total_nal_disc = discapacidadDeptos.Total_Nacional > 0\n",
    "\n",
    "# get only positive pledges (using their indexes)\n",
    "positive_totales = discapacidadDeptos.Total_Nacional.loc[total_nal_disc]\n",
    "\n",
    "# normalize the pledges (w/ Box-Cox)\n",
    "normalized_totales = pd.Series(stats.boxcox(positive_totales)[0], \n",
    "                               name='Total_Nacional', index=positive_totales.index)\n",
    "\n",
    "fig, ax=plt.subplots(1,2)\n",
    "sns.distplot(positive_totales, ax=ax[0])\n",
    "ax[0].set_title(\"Original Data\")\n",
    "sns.distplot(normalized_totales, ax=ax[1])\n",
    "ax[1].set_title(\"Normalized data\")"
   ]
  },
  {
   "cell_type": "code",
   "execution_count": null,
   "id": "64fc9e43",
   "metadata": {},
   "outputs": [],
   "source": []
  },
  {
   "cell_type": "code",
   "execution_count": null,
   "id": "008f0074",
   "metadata": {},
   "outputs": [],
   "source": []
  },
  {
   "cell_type": "code",
   "execution_count": null,
   "id": "8f077cbd",
   "metadata": {},
   "outputs": [],
   "source": []
  }
 ],
 "metadata": {
  "kernelspec": {
   "display_name": "Python 3 (ipykernel)",
   "language": "python",
   "name": "python3"
  },
  "language_info": {
   "codemirror_mode": {
    "name": "ipython",
    "version": 3
   },
   "file_extension": ".py",
   "mimetype": "text/x-python",
   "name": "python",
   "nbconvert_exporter": "python",
   "pygments_lexer": "ipython3",
   "version": "3.9.12"
  }
 },
 "nbformat": 4,
 "nbformat_minor": 5
}
