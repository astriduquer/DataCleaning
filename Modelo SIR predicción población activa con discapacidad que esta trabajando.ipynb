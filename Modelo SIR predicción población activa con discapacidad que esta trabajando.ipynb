{
 "cells": [
  {
   "cell_type": "markdown",
   "id": "251ba6f8",
   "metadata": {},
   "source": [
    "# Modelo S-I-R Predicción población activa con discapacidad que esta desocupada\n",
    "\n",
    "Predicción de la progresión personas con dispacacidad en edad activa que estan ocupadas o desocupadas \n",
    "\n",
    "En Colombia en el anio 2020 tenemos a la poblacion total con discapcidad, una parte de estos llega a la edad activa sin tabajo, los detalles de la expacion de personas con discapcidad en edad de trabajar que encontraron trabajo.\n",
    "\n",
    "Una informacion importante es si la tasa de crecimientos de desocupados de la poblacion con discapcidad podria disminuir con el aumento de los años, para lo cual se extrajeron muestras y se aplico metodo SIR y asi comparar la infomracion obtenida con los antecednetes que se tiene y ver su indice de crecimiento segun cada año."
   ]
  },
  {
   "cell_type": "code",
   "execution_count": 3,
   "id": "23b25f3b",
   "metadata": {},
   "outputs": [],
   "source": [
    "import numpy as np\n",
    "import scipy as sp\n",
    "import pandas as pd\n",
    "import matplotlib.pyplot as plt\n",
    "from scipy.integrate import odeint\n",
    "from scipy.integrate import RK45"
   ]
  },
  {
   "cell_type": "code",
   "execution_count": 8,
   "id": "010de4e8",
   "metadata": {},
   "outputs": [
    {
     "data": {
      "text/html": [
       "<div>\n",
       "<style scoped>\n",
       "    .dataframe tbody tr th:only-of-type {\n",
       "        vertical-align: middle;\n",
       "    }\n",
       "\n",
       "    .dataframe tbody tr th {\n",
       "        vertical-align: top;\n",
       "    }\n",
       "\n",
       "    .dataframe thead th {\n",
       "        text-align: right;\n",
       "    }\n",
       "</style>\n",
       "<table border=\"1\" class=\"dataframe\">\n",
       "  <thead>\n",
       "    <tr style=\"text-align: right;\">\n",
       "      <th></th>\n",
       "      <th>Poblacion Total</th>\n",
       "      <th>Desocupados</th>\n",
       "      <th>ocupados</th>\n",
       "    </tr>\n",
       "  </thead>\n",
       "  <tbody>\n",
       "    <tr>\n",
       "      <th>0</th>\n",
       "      <td>418</td>\n",
       "      <td>3</td>\n",
       "      <td>0</td>\n",
       "    </tr>\n",
       "    <tr>\n",
       "      <th>1</th>\n",
       "      <td>417</td>\n",
       "      <td>4</td>\n",
       "      <td>0</td>\n",
       "    </tr>\n",
       "    <tr>\n",
       "      <th>2</th>\n",
       "      <td>415</td>\n",
       "      <td>6</td>\n",
       "      <td>0</td>\n",
       "    </tr>\n",
       "    <tr>\n",
       "      <th>3</th>\n",
       "      <td>412</td>\n",
       "      <td>8</td>\n",
       "      <td>1</td>\n",
       "    </tr>\n",
       "    <tr>\n",
       "      <th>4</th>\n",
       "      <td>409</td>\n",
       "      <td>11</td>\n",
       "      <td>1</td>\n",
       "    </tr>\n",
       "    <tr>\n",
       "      <th>5</th>\n",
       "      <td>404</td>\n",
       "      <td>16</td>\n",
       "      <td>1</td>\n",
       "    </tr>\n",
       "    <tr>\n",
       "      <th>6</th>\n",
       "      <td>397</td>\n",
       "      <td>22</td>\n",
       "      <td>2</td>\n",
       "    </tr>\n",
       "    <tr>\n",
       "      <th>7</th>\n",
       "      <td>388</td>\n",
       "      <td>30</td>\n",
       "      <td>3</td>\n",
       "    </tr>\n",
       "    <tr>\n",
       "      <th>8</th>\n",
       "      <td>377</td>\n",
       "      <td>40</td>\n",
       "      <td>4</td>\n",
       "    </tr>\n",
       "    <tr>\n",
       "      <th>9</th>\n",
       "      <td>361</td>\n",
       "      <td>54</td>\n",
       "      <td>6</td>\n",
       "    </tr>\n",
       "    <tr>\n",
       "      <th>10</th>\n",
       "      <td>342</td>\n",
       "      <td>70</td>\n",
       "      <td>9</td>\n",
       "    </tr>\n",
       "  </tbody>\n",
       "</table>\n",
       "</div>"
      ],
      "text/plain": [
       "    Poblacion Total  Desocupados  ocupados\n",
       "0               418            3         0\n",
       "1               417            4         0\n",
       "2               415            6         0\n",
       "3               412            8         1\n",
       "4               409           11         1\n",
       "5               404           16         1\n",
       "6               397           22         2\n",
       "7               388           30         3\n",
       "8               377           40         4\n",
       "9               361           54         6\n",
       "10              342           70         9"
      ]
     },
     "execution_count": 8,
     "metadata": {},
     "output_type": "execute_result"
    }
   ],
   "source": [
    "poblacionTotal =[418, 417, 415, 412, 409, 404, 397, 388, 377, 361, 342]\n",
    "Desocupados=[3, 4, 6, 8, 11, 16, 22, 30, 40, 54, 70]\n",
    "ocupados =[0, 0, 0, 1, 1, 1, 2, 3, 4, 6, 9]\n",
    "df=pd.DataFrame({'Poblacion Total':poblacionTotal,'Desocupados':Desocupados, 'ocupados': ocupados })\n",
    "df"
   ]
  },
  {
   "cell_type": "code",
   "execution_count": 10,
   "id": "f1c34d7c",
   "metadata": {},
   "outputs": [
    {
     "data": {
      "text/plain": [
       "<matplotlib.collections.PathCollection at 0x1e00dc4b520>"
      ]
     },
     "execution_count": 10,
     "metadata": {},
     "output_type": "execute_result"
    },
    {
     "data": {
      "image/png": "[encoded data removed]",
      "text/plain": [
       "<Figure size 432x288 with 1 Axes>"
      ]
     },
     "metadata": {
      "needs_background": "light"
     },
     "output_type": "display_data"
    }
   ],
   "source": [
    "plt.scatter(df.index,df['Poblacion Total']) #azul\n",
    "plt.scatter(df.index,df['Desocupados'])  # naranja\n",
    "plt.scatter(df.index,df['ocupados']) #recuperados"
   ]
  },
  {
   "cell_type": "markdown",
   "id": "535f2523",
   "metadata": {},
   "source": [
    "# Modelo SIR\n",
    "\n",
    "El modelo SIR es un modelo compartimental que rastrea el crecimiento y la descomposición de las tres etapas principales...\n",
    "\n",
    "\n",
    "* P: Población Total\n",
    "* D: Desocupados\n",
    "* O: Ocupados\n",
    "\n",
    "Modelo:  \n",
    "\n",
    "$\\alpha$: Razón de cambio de desocupados\n",
    "$\\beta$: razón de cambio de ocupados \n",
    " \n",
    "\n",
    "Ecuaciones (ODE):\n",
    "\\begin{align*}\n",
    "& \\frac{\\mathrm{d}S}{\\mathrm{d}T}= - \\alpha S I  \\\\\n",
    "& \\frac{\\mathrm{d}I}{\\mathrm{d}T}= \\alpha S I - \\beta I  \\\\\n",
    "& \\frac{\\mathrm{d}R}{\\mathrm{d}T}= \\beta I  \\\\\n",
    " \\\\\n",
    "\\end{align*}\n",
    "\n",
    "donde $N=S+I+R$ es la poblacion, $T$ es el lapso de tiepo desde la fecha de inicio."
   ]
  },
  {
   "cell_type": "code",
   "execution_count": 12,
   "id": "1ab961cf",
   "metadata": {},
   "outputs": [
    {
     "name": "stdout",
     "output_type": "stream",
     "text": [
      "[[4.18000000e+02 3.00000000e+00 0.00000000e+00]\n",
      " [4.16418105e+02 4.27856560e+00 3.03329342e-01]\n",
      " [4.14174610e+02 6.08988753e+00 7.35502824e-01]\n",
      " [4.11006625e+02 8.64360708e+00 1.34976793e+00]\n",
      " [4.06560548e+02 1.22195665e+01 2.21988517e+00]\n",
      " [4.00374112e+02 1.71793248e+01 3.44656347e+00]\n",
      " [3.91868020e+02 2.39674732e+01 5.16450664e+00]\n",
      " [3.80361709e+02 3.30895898e+01 7.54870134e+00]\n",
      " [3.65134642e+02 4.50481371e+01 1.08172210e+01]\n",
      " [3.45555774e+02 6.02180366e+01 1.52261892e+01]\n",
      " [3.21287642e+02 7.86607885e+01 2.10515696e+01]\n",
      " [2.92526905e+02 9.99191124e+01 2.85539825e+01]\n",
      " [2.60179631e+02 1.22891637e+02 3.79287323e+01]\n",
      " [2.25838168e+02 1.45908810e+02 4.92530214e+01]\n",
      " [1.91493633e+02 1.67056217e+02 6.24501502e+01]\n",
      " [1.59075750e+02 1.84636176e+02 7.72880741e+01]\n",
      " [1.30033567e+02 1.97551329e+02 9.34151037e+01]\n",
      " [1.05135732e+02 2.05445929e+02 1.10418339e+02]\n",
      " [8.45161528e+01 2.08600745e+02 1.27883102e+02]\n",
      " [6.78648499e+01 2.07698092e+02 1.45437058e+02]]\n"
     ]
    }
   ],
   "source": [
    "a= 0.001\n",
    "b= 0.08\n",
    "\n",
    "def dP_dt(P, t):\n",
    "    return [-a*P[0]*P[1], a*P[0]*P[1]-b*P[1],b*P[1]]\n",
    "\n",
    "ts = np.linspace(0, 20, 20)\n",
    "P0 = [418, 3, 0]\n",
    "Ps = odeint(dP_dt, P0, ts)\n",
    "S= Ps[:,0]\n",
    "I= Ps[:,1]\n",
    "R= Ps[:,2]\n",
    "print(Ps)"
   ]
  },
  {
   "cell_type": "code",
   "execution_count": 13,
   "id": "e0ae1b9a",
   "metadata": {},
   "outputs": [
    {
     "data": {
      "image/png": "[encoded data removed]",
      "text/plain": [
       "<Figure size 432x288 with 1 Axes>"
      ]
     },
     "metadata": {
      "needs_background": "light"
     },
     "output_type": "display_data"
    }
   ],
   "source": [
    "plt.plot(ts,S, \"+\", label=\"Poblacion Total\")\n",
    "plt.plot(ts,I, \"x\", label=\"Desocupados\")\n",
    "plt.plot(ts,R, \"o\", label=\"ocupados\")\n",
    "plt.scatter(df.index,df['Poblacion Total'])\n",
    "plt.scatter(df.index,df['Desocupados'])\n",
    "plt.scatter(df.index,df['ocupados'])\n",
    "plt.xlabel(\"dias\")\n",
    "plt.ylabel(\"Population\")\n",
    "plt.rcParams['figure.figsize'] = (20, 7)\n",
    "plt.legend();"
   ]
  },
  {
   "cell_type": "markdown",
   "id": "06a06682",
   "metadata": {},
   "source": [
    "Tras el análisis de sensibilidad, se obtiene como resultado las razones de cambio que más se ajustan al modelo estimado son: :0.001 : 0.08, la tasa de poblacion total en comparacion con los desocupados y ocupados es inversamente proporsional."
   ]
  },
  {
   "cell_type": "markdown",
   "id": "91f17820",
   "metadata": {},
   "source": [
    "# GRÁFICA DE LOS DATOS DE LA TABLA\n",
    "Los puntos azules son los infectados.\n",
    "Los puntos naranjas son los recuperados."
   ]
  },
  {
   "cell_type": "code",
   "execution_count": 21,
   "id": "e1d9ffde",
   "metadata": {},
   "outputs": [
    {
     "ename": "NameError",
     "evalue": "name 'Desocupados3' is not defined",
     "output_type": "error",
     "traceback": [
      "\u001b[1;31m---------------------------------------------------------------------------\u001b[0m",
      "\u001b[1;31mNameError\u001b[0m                                 Traceback (most recent call last)",
      "Input \u001b[1;32mIn [21]\u001b[0m, in \u001b[0;36m<cell line: 8>\u001b[1;34m()\u001b[0m\n\u001b[0;32m      6\u001b[0m Infectados3\u001b[38;5;241m=\u001b[39m[\u001b[38;5;241m1\u001b[39m,\u001b[38;5;241m1\u001b[39m,\u001b[38;5;241m1\u001b[39m,\u001b[38;5;241m1\u001b[39m,\u001b[38;5;241m1\u001b[39m,\u001b[38;5;241m1\u001b[39m,\u001b[38;5;241m1\u001b[39m,\u001b[38;5;241m1\u001b[39m,\u001b[38;5;241m1\u001b[39m,\u001b[38;5;241m2\u001b[39m,\u001b[38;5;241m2\u001b[39m,\u001b[38;5;241m2\u001b[39m,\u001b[38;5;241m2\u001b[39m,\u001b[38;5;241m2\u001b[39m,\u001b[38;5;241m2\u001b[39m,\u001b[38;5;241m2\u001b[39m,\u001b[38;5;241m2\u001b[39m,\u001b[38;5;241m2\u001b[39m,\u001b[38;5;241m2\u001b[39m,\u001b[38;5;241m2\u001b[39m,\u001b[38;5;241m2\u001b[39m,\u001b[38;5;241m2\u001b[39m,\u001b[38;5;241m2\u001b[39m,\u001b[38;5;241m2\u001b[39m,\u001b[38;5;241m3\u001b[39m,\u001b[38;5;241m9\u001b[39m,\u001b[38;5;241m17\u001b[39m,\u001b[38;5;241m35\u001b[39m,\u001b[38;5;241m54\u001b[39m,\u001b[38;5;241m82\u001b[39m,\u001b[38;5;241m136\u001b[39m,\u001b[38;5;241m192\u001b[39m,\u001b[38;5;241m267\u001b[39m,\u001b[38;5;241m348\u001b[39m,\u001b[38;5;241m531\u001b[39m,\u001b[38;5;241m764\u001b[39m,\u001b[38;5;241m1094\u001b[39m,\u001b[38;5;241m1527\u001b[39m,\u001b[38;5;241m2299\u001b[39m,\u001b[38;5;241m3274\u001b[39m,\u001b[38;5;241m4427\u001b[39m,\u001b[38;5;241m5958\u001b[39m,\u001b[38;5;241m7641\u001b[39m,\u001b[38;5;241m9785\u001b[39m,\u001b[38;5;241m11491\u001b[39m,\u001b[38;5;241m13994\u001b[39m,\u001b[38;5;241m17688\u001b[39m,\u001b[38;5;241m21735\u001b[39m,\u001b[38;5;241m26304\u001b[39m,\u001b[38;5;241m31750\u001b[39m,\u001b[38;5;241m36616\u001b[39m,\u001b[38;5;241m41262\u001b[39m,\u001b[38;5;241m48953\u001b[39m,\u001b[38;5;241m57506\u001b[39m,\u001b[38;5;241m66460\u001b[39m,\u001b[38;5;241m75641\u001b[39m,\u001b[38;5;241m83885\u001b[39m,\u001b[38;5;241m90309\u001b[39m,\u001b[38;5;241m96122\u001b[39m,\u001b[38;5;241m104267\u001b[39m,\u001b[38;5;241m111680\u001b[39m,\u001b[38;5;241m119263\u001b[39m,\u001b[38;5;241m126535\u001b[39m,\u001b[38;5;241m133198\u001b[39m,\u001b[38;5;241m138731\u001b[39m,\u001b[38;5;241m142398\u001b[39m,\u001b[38;5;241m147607\u001b[39m,\u001b[38;5;241m153190\u001b[39m,\u001b[38;5;241m158935\u001b[39m,\u001b[38;5;241m163472\u001b[39m,\u001b[38;5;241m168022\u001b[39m,\u001b[38;5;241m171921\u001b[39m,\u001b[38;5;241m174951\u001b[39m,\u001b[38;5;241m178067\u001b[39m,\u001b[38;5;241m182491\u001b[39m,\u001b[38;5;241m186311\u001b[39m,\u001b[38;5;241m190129\u001b[39m,\u001b[38;5;241m193965\u001b[39m,\u001b[38;5;241m193252\u001b[39m,\u001b[38;5;241m195470\u001b[39m,\u001b[38;5;241m198421\u001b[39m,\u001b[38;5;241m200733\u001b[39m,\u001b[38;5;241m203649\u001b[39m,\u001b[38;5;241m205763\u001b[39m,\u001b[38;5;241m208269\u001b[39m,\u001b[38;5;241m209910\u001b[39m,\u001b[38;5;241m211570\u001b[39m,\u001b[38;5;241m213095\u001b[39m,\u001b[38;5;241m213942\u001b[39m,\u001b[38;5;241m215183\u001b[39m,\u001b[38;5;241m216570\u001b[39m,\u001b[38;5;241m217804\u001b[39m,\u001b[38;5;241m218739\u001b[39m,\u001b[38;5;241m219205\u001b[39m,\u001b[38;5;241m220244\u001b[39m,\u001b[38;5;241m221124\u001b[39m,\u001b[38;5;241m222045\u001b[39m,\u001b[38;5;241m223218\u001b[39m,\u001b[38;5;241m223961\u001b[39m,\u001b[38;5;241m227377\u001b[39m,\u001b[38;5;241m227770\u001b[39m,\u001b[38;5;241m228252\u001b[39m,\u001b[38;5;241m228691\u001b[39m,\u001b[38;5;241m229540\u001b[39m,\u001b[38;5;241m230183\u001b[39m,\u001b[38;5;241m230698\u001b[39m,\u001b[38;5;241m231350\u001b[39m,\u001b[38;5;241m231606\u001b[39m,\u001b[38;5;241m232037\u001b[39m,\u001b[38;5;241m232555\u001b[39m,\u001b[38;5;241m233037\u001b[39m,\u001b[38;5;241m234824\u001b[39m,\u001b[38;5;241m235290\u001b[39m,\u001b[38;5;241m235772\u001b[39m,\u001b[38;5;241m235400\u001b[39m,\u001b[38;5;241m236259\u001b[39m]\n\u001b[0;32m      7\u001b[0m Recuperados3\u001b[38;5;241m=\u001b[39m[\u001b[38;5;241m0\u001b[39m,\u001b[38;5;241m0\u001b[39m,\u001b[38;5;241m0\u001b[39m,\u001b[38;5;241m0\u001b[39m,\u001b[38;5;241m0\u001b[39m,\u001b[38;5;241m0\u001b[39m,\u001b[38;5;241m0\u001b[39m,\u001b[38;5;241m0\u001b[39m,\u001b[38;5;241m0\u001b[39m,\u001b[38;5;241m0\u001b[39m,\u001b[38;5;241m0\u001b[39m,\u001b[38;5;241m0\u001b[39m,\u001b[38;5;241m0\u001b[39m,\u001b[38;5;241m0\u001b[39m,\u001b[38;5;241m0\u001b[39m,\u001b[38;5;241m0\u001b[39m,\u001b[38;5;241m0\u001b[39m,\u001b[38;5;241m0\u001b[39m,\u001b[38;5;241m0\u001b[39m,\u001b[38;5;241m0\u001b[39m,\u001b[38;5;241m0\u001b[39m,\u001b[38;5;241m0\u001b[39m,\u001b[38;5;241m0\u001b[39m,\u001b[38;5;241m0\u001b[39m,\u001b[38;5;241m0\u001b[39m,\u001b[38;5;241m0\u001b[39m,\u001b[38;5;241m0\u001b[39m,\u001b[38;5;241m0\u001b[39m,\u001b[38;5;241m0\u001b[39m,\u001b[38;5;241m0\u001b[39m,\u001b[38;5;241m0\u001b[39m,\u001b[38;5;241m0\u001b[39m,\u001b[38;5;241m0\u001b[39m,\u001b[38;5;241m0\u001b[39m,\u001b[38;5;241m0\u001b[39m,\u001b[38;5;241m0\u001b[39m,\u001b[38;5;241m0\u001b[39m,\u001b[38;5;241m23\u001b[39m,\u001b[38;5;241m135\u001b[39m,\u001b[38;5;241m183\u001b[39m,\u001b[38;5;241m189\u001b[39m,\u001b[38;5;241m193\u001b[39m,\u001b[38;5;241m517\u001b[39m,\u001b[38;5;241m517\u001b[39m,\u001b[38;5;241m530\u001b[39m,\u001b[38;5;241m1028\u001b[39m,\u001b[38;5;241m1081\u001b[39m,\u001b[38;5;241m1107\u001b[39m,\u001b[38;5;241m1588\u001b[39m,\u001b[38;5;241m2125\u001b[39m,\u001b[38;5;241m2575\u001b[39m,\u001b[38;5;241m3355\u001b[39m,\u001b[38;5;241m3794\u001b[39m,\u001b[38;5;241m5367\u001b[39m,\u001b[38;5;241m7015\u001b[39m,\u001b[38;5;241m9357\u001b[39m,\u001b[38;5;241m12285\u001b[39m,\u001b[38;5;241m14709\u001b[39m,\u001b[38;5;241m16780\u001b[39m,\u001b[38;5;241m19259\u001b[39m,\u001b[38;5;241m22647\u001b[39m,\u001b[38;5;241m26743\u001b[39m,\u001b[38;5;241m30513\u001b[39m,\u001b[38;5;241m34219\u001b[39m,\u001b[38;5;241m3880\u001b[39m,\u001b[38;5;241m40437\u001b[39m,\u001b[38;5;241m43208\u001b[39m,\u001b[38;5;241m48021\u001b[39m,\u001b[38;5;241m52165\u001b[39m,\u001b[38;5;241m55668\u001b[39m,\u001b[38;5;241m59109\u001b[39m,\u001b[38;5;241m62391\u001b[39m,\u001b[38;5;241m64727\u001b[39m,\u001b[38;5;241m67504\u001b[39m,\u001b[38;5;241m70853\u001b[39m,\u001b[38;5;241m74797\u001b[39m,\u001b[38;5;241m72963\u001b[39m,\u001b[38;5;241m74662\u001b[39m,\u001b[38;5;241m77357\u001b[39m,\u001b[38;5;241m80587\u001b[39m,\u001b[38;5;241m82514\u001b[39m,\u001b[38;5;241m85915\u001b[39m,\u001b[38;5;241m89250\u001b[39m,\u001b[38;5;241m92355\u001b[39m,\u001b[38;5;241m95708\u001b[39m,\u001b[38;5;241m98732\u001b[39m,\u001b[38;5;241m100875\u001b[39m,\u001b[38;5;241m102548\u001b[39m,\u001b[38;5;241m108947\u001b[39m,\u001b[38;5;241m112050\u001b[39m,\u001b[38;5;241m114897\u001b[39m,\u001b[38;5;241m117248\u001b[39m,\u001b[38;5;241m118902\u001b[39m,\u001b[38;5;241m121343\u001b[39m,\u001b[38;5;241m123486\u001b[39m,\u001b[38;5;241m126002\u001b[39m,\u001b[38;5;241m128511\u001b[39m,\u001b[38;5;241m131148\u001b[39m,\u001b[38;5;241m133952\u001b[39m,\u001b[38;5;241m136166\u001b[39m,\u001b[38;5;241m137139\u001b[39m,\u001b[38;5;241m138930\u001b[39m,\u001b[38;5;241m140823\u001b[39m,\u001b[38;5;241m143374\u001b[39m,\u001b[38;5;241m144783\u001b[39m,\u001b[38;5;241m146446\u001b[39m,\u001b[38;5;241m149576\u001b[39m,\u001b[38;5;241m150376\u001b[39m,\u001b[38;5;241m150376\u001b[39m,\u001b[38;5;241m150376\u001b[39m,\u001b[38;5;241m150376\u001b[39m,\u001b[38;5;241m150376\u001b[39m,\u001b[38;5;241m150376\u001b[39m,\u001b[38;5;241m150376\u001b[39m,\u001b[38;5;241m150376\u001b[39m,\u001b[38;5;241m150376\u001b[39m]\n\u001b[1;32m----> 8\u001b[0m df\u001b[38;5;241m=\u001b[39mpd\u001b[38;5;241m.\u001b[39mDataFrame({\u001b[38;5;124m'\u001b[39m\u001b[38;5;124mFecha\u001b[39m\u001b[38;5;124m'\u001b[39m:list_fechas3,\u001b[38;5;124m'\u001b[39m\u001b[38;5;124mPoblacion Total\u001b[39m\u001b[38;5;124m'\u001b[39m:poblacionTotal,\u001b[38;5;124m'\u001b[39m\u001b[38;5;124mDesocupados3\u001b[39m\u001b[38;5;124m'\u001b[39m: \u001b[43mDesocupados3\u001b[49m,\u001b[38;5;124m'\u001b[39m\u001b[38;5;124mocupados3\u001b[39m\u001b[38;5;124m'\u001b[39m:ocupados3})\n\u001b[0;32m      9\u001b[0m df\n",
      "\u001b[1;31mNameError\u001b[0m: name 'Desocupados3' is not defined"
     ]
    }
   ],
   "source": [
    "from datetime import datetime, timedelta\n",
    "inicio=datetime(2020,2,1)\n",
    "fin=datetime(2020,5,26)\n",
    "list_fechas3=[(inicio + timedelta(days=d)).strftime(\"%Y-%m-%d\") for d in range((fin - inicio).days + 1)] \n",
    "Susceptibles3=[46899999,46899998,46899997,46899996,46899995,46899994,46899993,46899992,46899991,46899990,46899988,46899986,46899984,46899982,46899980,46899978,46899976,46899974,46899972,46899970,46899968,46899966,46899964,46899962,46899960,46899957,46899948,46899931,46899896,46899842,46899760,46899624,46899432,46899165,46898817,46898286,46897522,46898450,46897566,46896543,46895384,46893849,46891842,46889698,46887979,46884978,46881231,46877158,46872108,46866125,46860809,46855383,46847253,46837127,46826525,46815002,46803830,46794982,46787098,46776474,46765673,46753994,46742952,46732583,46757389,46717165,46709185,46698789,46688900,46680860,46672869,46665688,46660322,46654429,46646656,46638892,46636908,46631373,46629391,46623943,46619065,46613352,46607101,46601882,46596023,46591358,46587555,46584357,46577111,46572767,46568533,46564948,46562359,46559452,46556270,46552874,46549444,46545634,46542087,46536457,46535091,46532818,46530486,46527086,46525034,46522856,46519074,46518018,46517587,46517069,46516587,46514800,46514334,46513852,46514224,46513365]\n",
    "Infectados3=[1,1,1,1,1,1,1,1,1,2,2,2,2,2,2,2,2,2,2,2,2,2,2,2,3,9,17,35,54,82,136,192,267,348,531,764,1094,1527,2299,3274,4427,5958,7641,9785,11491,13994,17688,21735,26304,31750,36616,41262,48953,57506,66460,75641,83885,90309,96122,104267,111680,119263,126535,133198,138731,142398,147607,153190,158935,163472,168022,171921,174951,178067,182491,186311,190129,193965,193252,195470,198421,200733,203649,205763,208269,209910,211570,213095,213942,215183,216570,217804,218739,219205,220244,221124,222045,223218,223961,227377,227770,228252,228691,229540,230183,230698,231350,231606,232037,232555,233037,234824,235290,235772,235400,236259]\n",
    "Recuperados3=[0,0,0,0,0,0,0,0,0,0,0,0,0,0,0,0,0,0,0,0,0,0,0,0,0,0,0,0,0,0,0,0,0,0,0,0,0,23,135,183,189,193,517,517,530,1028,1081,1107,1588,2125,2575,3355,3794,5367,7015,9357,12285,14709,16780,19259,22647,26743,30513,34219,3880,40437,43208,48021,52165,55668,59109,62391,64727,67504,70853,74797,72963,74662,77357,80587,82514,85915,89250,92355,95708,98732,100875,102548,108947,112050,114897,117248,118902,121343,123486,126002,128511,131148,133952,136166,137139,138930,140823,143374,144783,146446,149576,150376,150376,150376,150376,150376,150376,150376,150376,150376]\n",
    "df=pd.DataFrame({'Fecha':list_fechas3,'Poblacion Total':poblacionTotal,'Desocupados3': Desocupados3,'ocupados3':ocupados3})\n",
    "df\n"
   ]
  },
  {
   "cell_type": "code",
   "execution_count": null,
   "id": "134fb05b",
   "metadata": {},
   "outputs": [],
   "source": []
  },
  {
   "cell_type": "markdown",
   "id": "31f7b508",
   "metadata": {},
   "source": [
    "## GRÁFICA DE LOS DATOS DE LA TABLA\n",
    "- Los puntos azules son los desocupados.\n",
    "- Los puntos naranjas son los ocupados."
   ]
  },
  {
   "cell_type": "code",
   "execution_count": 22,
   "id": "f8cc8f80",
   "metadata": {},
   "outputs": [
    {
     "data": {
      "image/png": "[encoded data removed]",
      "text/plain": [
       "<Figure size 1440x504 with 1 Axes>"
      ]
     },
     "metadata": {
      "needs_background": "light"
     },
     "output_type": "display_data"
    }
   ],
   "source": [
    "#plt.scatter(list_fechas3, Susceptibles3)\n",
    "plt.scatter(list_fechas3, Infectados3) # puntos Azules\n",
    "plt.scatter(list_fechas3, Recuperados3) # []\n",
    "plt.xticks(list_fechas3,rotation=90)\n",
    "plt.rcParams['figure.figsize'] = (15, 6)"
   ]
  },
  {
   "cell_type": "code",
   "execution_count": 23,
   "id": "8fabed9c",
   "metadata": {},
   "outputs": [
    {
     "name": "stdout",
     "output_type": "stream",
     "text": [
      "[[ 4.68999990e+07  1.00000000e+00  0.00000000e+00]\n",
      " [ 4.19246286e-22  4.57353262e+07  1.16467378e+06]\n",
      " [ 4.29451942e-22  4.45995189e+07  2.30048106e+06]\n",
      " [ 9.12891318e-23  4.34919187e+07  3.40808130e+06]\n",
      " [-2.36444601e-22  4.24118250e+07  4.48817500e+06]\n",
      " [-9.45782985e-23  4.13585547e+07  5.54144528e+06]\n",
      " [ 4.28660076e-22  4.03314417e+07  6.56855825e+06]\n",
      " [ 2.26597866e-22  3.93298365e+07  7.57016355e+06]\n",
      " [-1.13593056e-22  3.83531054e+07  8.54689463e+06]\n",
      " [-3.23331639e-22  3.74006308e+07  9.49936922e+06]\n",
      " [ 1.90374574e-22  3.64718103e+07  1.04281897e+07]\n",
      " [ 2.42481379e-22  3.55660564e+07  1.13339436e+07]\n",
      " [-1.63317531e-22  3.46827964e+07  1.22172036e+07]\n",
      " [-4.49851945e-22  3.38214716e+07  1.30785284e+07]\n",
      " [ 9.47161428e-23  3.29815372e+07  1.39184628e+07]\n",
      " [ 8.44517491e-22  3.21624620e+07  1.47375380e+07]\n",
      " [ 1.58095018e-22  3.13637281e+07  1.55362719e+07]\n",
      " [ 9.31957475e-23  3.05848302e+07  1.63151698e+07]\n",
      " [-9.33746241e-24  2.98252757e+07  1.70747243e+07]\n",
      " [-8.37960047e-23  2.90845843e+07  1.78154157e+07]\n",
      " [-4.03588446e-25  2.83622875e+07  1.85377125e+07]\n",
      " [ 5.54053138e-23  2.76579284e+07  1.92420716e+07]\n",
      " [-2.73546926e-23  2.69710617e+07  1.99289383e+07]\n",
      " [-6.64639237e-23  2.63012528e+07  2.05987472e+07]\n",
      " [-4.95724769e-23  2.56480783e+07  2.12519217e+07]\n",
      " [-3.38219122e-23  2.50111248e+07  2.18888752e+07]\n",
      " [ 1.71134330e-23  2.43899897e+07  2.25100103e+07]\n",
      " [ 4.24344686e-23  2.37842801e+07  2.31157199e+07]\n",
      " [-2.14876566e-23  2.31936129e+07  2.37063871e+07]\n",
      " [-8.66916784e-23  2.26176146e+07  2.42823854e+07]\n",
      " [-1.20060206e-22  2.20559208e+07  2.48440792e+07]\n",
      " [-1.09484391e-22  2.15081763e+07  2.53918237e+07]\n",
      " [ 1.92927561e-23  2.09740346e+07  2.59259654e+07]\n",
      " [ 1.02808761e-22  2.04531581e+07  2.64468419e+07]\n",
      " [-1.52235366e-25  1.99452171e+07  2.69547829e+07]\n",
      " [-1.45115098e-22  1.94498906e+07  2.74501094e+07]\n",
      " [-3.22411343e-22  1.89668651e+07  2.79331349e+07]\n",
      " [-3.78347263e-22  1.84958353e+07  2.84041647e+07]\n",
      " [-5.53484652e-23  1.80365032e+07  2.88634968e+07]\n",
      " [ 3.26312503e-22  1.75885784e+07  2.93114216e+07]\n",
      " [ 5.84243822e-22  1.71517774e+07  2.97482226e+07]\n",
      " [ 4.94907108e-22  1.67258241e+07  3.01741759e+07]\n",
      " [-4.43961968e-22  1.63104491e+07  3.05895509e+07]\n",
      " [-1.44319749e-21  1.59053897e+07  3.09946103e+07]\n",
      " [-1.87223674e-21  1.55103896e+07  3.13896104e+07]\n",
      " [-1.28597876e-21  1.51251991e+07  3.17748009e+07]\n",
      " [ 1.47255695e-21  1.47495746e+07  3.21504254e+07]\n",
      " [ 4.32405919e-21  1.43832785e+07  3.25167215e+07]\n",
      " [ 5.39428784e-21  1.40260791e+07  3.28739209e+07]\n",
      " [ 3.32487050e-21  1.36777505e+07  3.32222495e+07]\n",
      " [-5.15981647e-21  1.33380724e+07  3.35619276e+07]\n",
      " [-1.44173577e-20  1.30068300e+07  3.38931700e+07]\n",
      " [-1.92839942e-20  1.26838138e+07  3.42161862e+07]\n",
      " [-1.39760210e-20  1.23688195e+07  3.45311805e+07]\n",
      " [ 1.27693445e-20  1.20616479e+07  3.48383521e+07]\n",
      " [ 4.59890101e-20  1.17621047e+07  3.51378953e+07]\n",
      " [ 7.33004557e-20  1.14700004e+07  3.54299996e+07]\n",
      " [ 7.07337327e-20  1.11851504e+07  3.57148496e+07]\n",
      " [-1.30263151e-21  1.09073744e+07  3.59926256e+07]\n",
      " [-5.13872627e-20  1.06364968e+07  3.62635032e+07]\n",
      " [-8.53260031e-22  1.03723463e+07  3.65276537e+07]\n",
      " [ 3.44432501e-20  1.01147558e+07  3.67852442e+07]\n",
      " [ 1.05360790e-20  9.86356241e+06  3.70364376e+07]\n",
      " [-2.88737927e-21  9.61860723e+06  3.72813928e+07]\n",
      " [-1.82598331e-20  9.37973534e+06  3.75202647e+07]\n",
      " [-2.85781226e-20  9.14679569e+06  3.77532043e+07]\n",
      " [ 4.45367116e-21  8.91964094e+06  3.79803591e+07]\n",
      " [ 3.12147718e-20  8.69812744e+06  3.82018726e+07]\n",
      " [ 2.26759200e-20  8.48211507e+06  3.84178849e+07]\n",
      " [ 5.92086075e-21  8.27146724e+06  3.86285328e+07]\n",
      " [-3.11760471e-20  8.06605070e+06  3.88339493e+07]\n",
      " [-5.37125927e-20  7.86573556e+06  3.90342644e+07]\n",
      " [-9.68643509e-21  7.67039511e+06  3.92296049e+07]\n",
      " [ 4.21031184e-20  7.47990582e+06  3.94200942e+07]\n",
      " [ 7.50324720e-20  7.29414720e+06  3.96058528e+07]\n",
      " [ 7.05027579e-20  7.11300178e+06  3.97869982e+07]\n",
      " [-4.17726372e-20  6.93635498e+06  3.99636450e+07]\n",
      " [-1.50348099e-19  6.76409510e+06  4.01359049e+07]\n",
      " [-1.54256764e-19  6.59611318e+06  4.03038868e+07]\n",
      " [-6.50768011e-20  6.43230298e+06  4.04676970e+07]\n",
      " [ 2.05395806e-19  6.27256090e+06  4.06274391e+07]\n",
      " [ 4.26481135e-19  6.11678591e+06  4.07832141e+07]\n",
      " [ 3.24828927e-19  5.96487949e+06  4.09351205e+07]\n",
      " [-2.07133165e-20  5.81674558e+06  4.10832544e+07]\n",
      " [-7.22445075e-19  5.67229046e+06  4.12277095e+07]\n",
      " [-1.22900430e-18  5.53142280e+06  4.13685772e+07]\n",
      " [-8.06526480e-19  5.39405350e+06  4.15059465e+07]\n",
      " [ 3.34845469e-19  5.26009568e+06  4.16399043e+07]\n",
      " [ 2.39790240e-18  5.12946460e+06  4.17705354e+07]\n",
      " [ 3.86352168e-18  5.00207767e+06  4.18979223e+07]\n",
      " [ 2.64487747e-18  4.87785431e+06  4.20221457e+07]\n",
      " [-9.80698011e-19  4.75671596e+06  4.21432840e+07]\n",
      " [-7.82143856e-18  4.63858600e+06  4.22614140e+07]\n",
      " [-1.32869545e-17  4.52338972e+06  4.23766103e+07]\n",
      " [-1.11673264e-17  4.41105427e+06  4.24889457e+07]\n",
      " [-3.17323944e-19  4.30150859e+06  4.25984914e+07]\n",
      " [ 2.39099041e-17  4.19468341e+06  4.27053166e+07]\n",
      " [ 3.57424134e-17  4.09051116e+06  4.28094888e+07]\n",
      " [ 3.23135158e-18  3.98892597e+06  4.29110740e+07]\n",
      " [-2.42080440e-17  3.88986357e+06  4.30101364e+07]\n",
      " [-4.49647451e-18  3.79326133e+06  4.31067387e+07]\n",
      " [ 1.35391894e-17  3.69905814e+06  4.32009419e+07]\n",
      " [ 7.45608241e-18  3.60719443e+06  4.32928056e+07]\n",
      " [ 1.58597476e-18  3.51761209e+06  4.33823879e+07]\n",
      " [-7.10844229e-18  3.43025447e+06  4.34697455e+07]\n",
      " [-1.36675105e-17  3.34506632e+06  4.35549337e+07]\n",
      " [-1.43749709e-18  3.26199377e+06  4.36380062e+07]\n",
      " [ 1.17074271e-17  3.18098427e+06  4.37190157e+07]\n",
      " [ 1.18388869e-17  3.10198658e+06  4.37980134e+07]\n",
      " [ 5.96372151e-18  3.02495075e+06  4.38750492e+07]\n",
      " [-1.08856905e-17  2.94982806e+06  4.39501719e+07]\n",
      " [-2.40475241e-17  2.87657099e+06  4.40234290e+07]\n",
      " [-1.00330110e-17  2.80513321e+06  4.40948668e+07]\n",
      " [ 1.28956965e-17  2.73546955e+06  4.41645305e+07]\n",
      " [ 3.27432687e-17  2.66753593e+06  4.42324641e+07]\n",
      " [ 3.70528872e-17  2.60128940e+06  4.42987106e+07]\n",
      " [-6.05033740e-18  2.53668806e+06  4.43633119e+07]\n",
      " [-5.83797904e-17  2.47369106e+06  4.44263089e+07]\n",
      " [-7.55872792e-17  2.41225854e+06  4.44877415e+07]\n",
      " [-4.85857810e-17  2.35235167e+06  4.45476483e+07]\n",
      " [ 6.44839454e-17  2.29393253e+06  4.46060675e+07]\n",
      " [ 1.79040684e-16  2.23696421e+06  4.46630358e+07]\n",
      " [ 1.75169857e-16  2.18141065e+06  4.47185894e+07]\n",
      " [ 4.95404036e-17  2.12723673e+06  4.47727633e+07]\n",
      " [-2.57265346e-16  2.07440818e+06  4.48255918e+07]\n",
      " [-5.35529957e-16  2.02289160e+06  4.48771084e+07]\n",
      " [-4.63225134e-16  1.97265439e+06  4.49273456e+07]\n",
      " [-3.13835158e-17  1.92366480e+06  4.49763352e+07]\n",
      " [ 8.82054326e-16  1.87589183e+06  4.50241082e+07]\n",
      " [ 1.69856574e-15  1.82930527e+06  4.50706947e+07]\n",
      " [ 1.50685548e-15  1.78387566e+06  4.51161243e+07]\n",
      " [ 1.53404336e-16  1.73957426e+06  4.51604257e+07]\n",
      " [-2.82677826e-15  1.69637306e+06  4.52036269e+07]\n",
      " [-5.74400481e-15  1.65424474e+06  4.52457553e+07]\n",
      " [-5.92501012e-15  1.61316264e+06  4.52868374e+07]\n",
      " [-2.14498949e-15  1.57310079e+06  4.53268992e+07]\n",
      " [ 7.99701697e-15  1.53403385e+06  4.53659661e+07]\n",
      " [ 1.46310595e-14  1.49593711e+06  4.54040629e+07]\n",
      " [ 3.21199262e-15  1.45878648e+06  4.54412135e+07]\n",
      " [-9.46543056e-15  1.42255847e+06  4.54774415e+07]\n",
      " [-3.56838125e-15  1.38723015e+06  4.55127699e+07]\n",
      " [ 5.01706547e-15  1.35277919e+06  4.55472208e+07]\n",
      " [ 3.85787491e-15  1.31918379e+06  4.55808162e+07]\n",
      " [-2.64214290e-15  1.28642271e+06  4.56135773e+07]\n",
      " [-1.85765961e-14  1.25447524e+06  4.56455248e+07]\n",
      " [-3.25214735e-14  1.22332116e+06  4.56766788e+07]\n",
      " [-2.40633881e-14  1.19294077e+06  4.57070592e+07]\n",
      " [ 2.97352546e-15  1.16331486e+06  4.57366851e+07]\n",
      " [ 4.77657013e-14  1.13442469e+06  4.57655753e+07]\n",
      " [ 8.18095530e-14  1.10625199e+06  4.57937480e+07]\n",
      " [ 5.40646319e-14  1.07877893e+06  4.58212211e+07]\n",
      " [-3.00050783e-14  1.05198816e+06  4.58480118e+07]\n",
      " [-1.65888008e-13  1.02586271e+06  4.58741373e+07]\n",
      " [-2.71207719e-13  1.00038608e+06  4.58996139e+07]\n",
      " [-1.99281887e-13  9.75542136e+05  4.59244579e+07]\n",
      " [ 6.58909134e-14  9.51315179e+05  4.59486848e+07]\n",
      " [ 5.51107732e-13  9.27689883e+05  4.59723101e+07]\n",
      " [ 1.00418634e-12  9.04651305e+05  4.59953487e+07]\n",
      " [ 9.75218782e-13  8.82184876e+05  4.60178151e+07]\n",
      " [ 2.44604445e-13  8.60276386e+05  4.60397236e+07]\n",
      " [-1.53111412e-12  8.38911979e+05  4.60610880e+07]\n",
      " [-3.66979881e-12  8.18078143e+05  4.60819219e+07]\n",
      " [-4.90195961e-12  7.97761702e+05  4.61022383e+07]\n",
      " [-3.83676971e-12  7.77949807e+05  4.61220502e+07]\n",
      " [ 1.77757365e-12  7.58629927e+05  4.61413701e+07]\n",
      " [ 1.09538940e-11  7.39789844e+05  4.61602102e+07]\n",
      " [ 2.13969105e-11  7.21417642e+05  4.61785824e+07]\n",
      " [ 2.69245156e-11  7.03501702e+05  4.61964983e+07]\n",
      " [ 1.69620443e-11  6.86030693e+05  4.62139693e+07]\n",
      " [-1.26525219e-11  6.68993565e+05  4.62310064e+07]]\n"
     ]
    }
   ],
   "source": [
    "a= 0.0075\n",
    "b= 0.025\n",
    "\n",
    "def dP_dt(P, t):\n",
    "    return [-a*P[0]*P[1], a*P[0]*P[1]-b*P[1],b*P[1]]\n",
    "\n",
    "ts = np.linspace(0, 170, 170)\n",
    "P0 = [46899999, 1, 0]\n",
    "Ps = odeint(dP_dt, P0, ts)\n",
    "S= Ps[:,0]\n",
    "I= Ps[:,1]\n",
    "R= Ps[:,2]\n",
    "print(Ps)"
   ]
  },
  {
   "cell_type": "markdown",
   "id": "42b41a11",
   "metadata": {},
   "source": [
    "## MODELO PREDICCIÓN POD"
   ]
  },
  {
   "cell_type": "code",
   "execution_count": 24,
   "id": "2acb1bc3",
   "metadata": {},
   "outputs": [
    {
     "data": {
      "text/plain": [
       "<matplotlib.legend.Legend at 0x1e00e1893d0>"
      ]
     },
     "execution_count": 24,
     "metadata": {},
     "output_type": "execute_result"
    },
    {
     "data": {
      "image/png": "[encoded data removed]",
      "text/plain": [
       "<Figure size 1080x432 with 1 Axes>"
      ]
     },
     "metadata": {
      "needs_background": "light"
     },
     "output_type": "display_data"
    }
   ],
   "source": [
    "plt.plot(ts,S, \"+\", label=\"Poblacion Total\")\n",
    "plt.plot(ts,I, \"x\", label=\"Desocupados\")\n",
    "plt.plot(ts,R, \"-\", label=\"ocupados\")\n",
    "\n",
    "#plt.scatter(df.index,df['Susceptibles3'])\n",
    "#plt.scatter(df.index,df['Infectados3'])\n",
    "#plt.scatter(df.index,df['Recuperados3'])\n",
    "#plt.scatter(list_fechas3, Infectados3)\n",
    "#plt.xticks(df.index,rotation=90)\n",
    "plt.xlabel(\"Time\")\n",
    "plt.ylabel(\"Population\")\n",
    "\n",
    "plt.rcParams['figure.figsize'] = (30, 20)\n",
    "plt.legend()\n",
    "#plt.show()"
   ]
  }
 ],
 "metadata": {
  "kernelspec": {
   "display_name": "Python 3 (ipykernel)",
   "language": "python",
   "name": "python3"
  },
  "language_info": {
   "codemirror_mode": {
    "name": "ipython",
    "version": 3
   },
   "file_extension": ".py",
   "mimetype": "text/x-python",
   "name": "python",
   "nbconvert_exporter": "python",
   "pygments_lexer": "ipython3",
   "version": "3.9.12"
  }
 },
 "nbformat": 4,
 "nbformat_minor": 5
}
